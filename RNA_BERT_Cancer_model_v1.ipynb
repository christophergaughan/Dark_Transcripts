{
  "nbformat": 4,
  "nbformat_minor": 0,
  "metadata": {
    "colab": {
      "private_outputs": true,
      "provenance": [],
      "mount_file_id": "1aM5bsMQ-5lF29fMHAi2D1JJ3Rzaey8bq",
      "authorship_tag": "ABX9TyMVnQGLYroFbQIGqCxx3fdN",
      "include_colab_link": true
    },
    "kernelspec": {
      "name": "python3",
      "display_name": "Python 3"
    },
    "language_info": {
      "name": "python"
    }
  },
  "cells": [
    {
      "cell_type": "markdown",
      "metadata": {
        "id": "view-in-github",
        "colab_type": "text"
      },
      "source": [
        "<a href=\"https://colab.research.google.com/github/christophergaughan/Dark_Transcripts/blob/main/RNA_BERT_Cancer_model_v1.ipynb\" target=\"_parent\"><img src=\"https://colab.research.google.com/assets/colab-badge.svg\" alt=\"Open In Colab\"/></a>"
      ]
    },
    {
      "cell_type": "markdown",
      "source": [
        "# **Building a Multi-Cancer RNA Dataset for a BERT Model**\n",
        "## **Objective**\n",
        "Our goal is to construct a large and robust dataset consisting of RNA sequences from both cancerous and non-cancerous genes across multiple cancer subtypes. The dataset will be used to fine-tune a BERT model for classifying RNA sequences as either *Cancerous* or *Non-Cancerous*.\n",
        "\n",
        "---\n",
        "\n",
        "## **Key Steps**\n",
        "1. **Cancer Subtype Selection**:\n",
        "   - Focus on multiple cancer subtypes (e.g., breast cancer, lung cancer, colon cancer, prostate cancer) to ensure diversity in the dataset.\n",
        "\n",
        "2. **Data Collection**:\n",
        "   - **Cancerous Genes**:\n",
        "     - Collect RNA-Seq data for cancerous tissues from *The Cancer Genome Atlas (TCGA)*.\n",
        "   - **Healthy Genes**:\n",
        "     - Collect RNA-Seq data for healthy tissues from *Genotype-Tissue Expression (GTEx)*.\n",
        "\n",
        "3. **Data Preprocessing**:\n",
        "   - Normalize raw RNA-Seq count data for both cancerous and healthy samples.\n",
        "   - Perform differential expression analysis to identify cancer-specific genes.\n",
        "\n",
        "4. **Gene Mapping and Validation**:\n",
        "   - Map cancer-specific genes to biological pathways using the KEGG database.\n",
        "   - Retrieve RNA sequences for both cancerous and healthy counterparts.\n",
        "\n",
        "5. **Dataset Creation**:\n",
        "   - Label RNA sequences from cancerous tissues as **\"Cancerous\"** and sequences from healthy tissues as **\"Non-Cancerous\"**.\n",
        "   - Tokenize RNA sequences into k-mers for compatibility with the BERT model.\n",
        "\n",
        "6. **Model Fine-Tuning**:\n",
        "   - Fine-tune a pre-trained BERT model for RNA classification using the labeled dataset.\n",
        "   - Evaluate model performance on an unseen test set.\n",
        "\n",
        "---\n",
        "\n",
        "## **Outcome**\n",
        "- A labeled, multi-cancer RNA dataset ready for machine learning.\n",
        "- A fine-tuned BERT model capable of accurately classifying RNA sequences as cancerous or non-cancerous.\n",
        "\n",
        "---\n",
        "\n",
        "## **Applications**\n",
        "- Enhance our understanding of cancer-specific RNA sequence patterns.\n",
        "- Assist in predicting the cancerous nature of novel RNA sequences.\n"
      ],
      "metadata": {
        "id": "wO3Xa3BzduRM"
      }
    },
    {
      "cell_type": "markdown",
      "source": [
        "# **Anticipating Problems and Solutions**\n",
        "\n",
        "| **Potential Problems**                              | **Possible Solutions**                                                                 |\n",
        "|-----------------------------------------------------|---------------------------------------------------------------------------------------|\n",
        "| **1. Limited availability of RNA-Seq data for some cancer subtypes** | Use publicly available datasets (e.g., TCGA, GEO, GTEx) and focus on well-studied subtypes initially. Expand to other subtypes as data becomes available. |\n",
        "| **2. Imbalanced dataset (fewer cancerous genes compared to non-cancerous)** | Use techniques like oversampling cancerous data, undersampling non-cancerous data, or generating synthetic data with mutations. |\n",
        "| **3. No direct healthy counterpart for some cancerous genes** | Use genes with similar biological functions, from the same pathway, or from paralogous families as counterparts. Validate biological relevance using KEGG or Reactome. |\n",
        "| **4. Noisy or incomplete RNA-Seq data**             | Preprocess data carefully by filtering out low-quality sequences, normalizing counts, and ensuring uniform length for sequences. |\n",
        "| **5. High dimensionality of RNA sequences**         | Use k-mer tokenization to reduce dimensionality and represent sequences in a format compatible with the BERT model. |\n",
        "| **6. Difficulty in identifying biologically relevant genes** | Perform differential expression analysis with stringent criteria (e.g., p-value and fold change thresholds) and cross-reference with cancer gene databases (e.g., COSMIC, OncoKB). |\n",
        "| **7. Computational challenges with large datasets** | Use cloud computing resources (e.g., Google Colab, AWS) and optimize code to handle large-scale processing efficiently. |\n",
        "| **8. Overfitting on training data**                 | Split data into training, validation, and test sets. Use data augmentation and regularization techniques (e.g., dropout) during model training. |\n",
        "| **9. Tokenization challenges for very long RNA sequences** | Truncate or split long sequences into manageable chunks. Train the BERT model with a max sequence length suitable for the majority of the data. |\n",
        "| **10. Lack of robust evaluation metrics**           | Use a combination of metrics like accuracy, precision, recall, F1-score, and ROC-AUC to evaluate model performance comprehensively. |\n",
        "| **11. Ethical and data privacy concerns**           | Ensure that all datasets used are open-access and comply with data usage guidelines. Avoid sharing sensitive patient information. |\n",
        "| **12. Difficulties in reproducing results**         | Create a clear and modular pipeline using reproducible tools (e.g., Jupyter/Colab notebooks, version control with Git). Document all steps and dependencies. |\n",
        "\n",
        "---\n",
        "\n",
        "## **Summary**\n",
        "By anticipating these challenges and preparing solutions, we can ensure a smoother execution of the project and minimize potential setbacks.\n"
      ],
      "metadata": {
        "id": "GGfrU_YPxjMS"
      }
    },
    {
      "cell_type": "markdown",
      "source": [
        "# Steps to Build gdc-client in Google Colab"
      ],
      "metadata": {
        "id": "TE3dGcEx_bHt"
      }
    },
    {
      "cell_type": "code",
      "source": [
        "!git clone https://github.com/NCI-GDC/gdc-client.git\n"
      ],
      "metadata": {
        "id": "7cWZQZcBCVkd"
      },
      "execution_count": null,
      "outputs": []
    },
    {
      "cell_type": "code",
      "source": [
        "%cd gdc-client\n"
      ],
      "metadata": {
        "id": "g-T4gWDFCWWY"
      },
      "execution_count": null,
      "outputs": []
    },
    {
      "cell_type": "code",
      "source": [
        "!pip install -r requirements.txt\n"
      ],
      "metadata": {
        "id": "ZeITzP38CZVT"
      },
      "execution_count": null,
      "outputs": []
    },
    {
      "cell_type": "code",
      "source": [
        "%cd bin\n"
      ],
      "metadata": {
        "id": "YGDnEDuNCeDx"
      },
      "execution_count": null,
      "outputs": []
    },
    {
      "cell_type": "code",
      "source": [
        "!chmod +x package\n"
      ],
      "metadata": {
        "id": "ei1Cec8vCicx"
      },
      "execution_count": null,
      "outputs": []
    },
    {
      "cell_type": "code",
      "source": [
        "!./package\n"
      ],
      "metadata": {
        "id": "lmHh_9D5CmP2"
      },
      "execution_count": null,
      "outputs": []
    },
    {
      "cell_type": "code",
      "source": [
        "%cd gdc-client/bin\n",
        "\n"
      ],
      "metadata": {
        "id": "HPw9_KVkCpco"
      },
      "execution_count": null,
      "outputs": []
    },
    {
      "cell_type": "code",
      "source": [
        "!chmod +x package\n"
      ],
      "metadata": {
        "id": "5SGPT3dQCuW_"
      },
      "execution_count": null,
      "outputs": []
    },
    {
      "cell_type": "code",
      "source": [
        "!./package\n"
      ],
      "metadata": {
        "id": "uxNi4whODITp"
      },
      "execution_count": null,
      "outputs": []
    },
    {
      "cell_type": "code",
      "source": [
        "%cd .."
      ],
      "metadata": {
        "id": "MoBLKhvZDL1B"
      },
      "execution_count": null,
      "outputs": []
    },
    {
      "cell_type": "code",
      "source": [
        "!ls"
      ],
      "metadata": {
        "id": "dDxF3TJvDZ_q"
      },
      "execution_count": null,
      "outputs": []
    },
    {
      "cell_type": "code",
      "source": [
        "!pip install virtualenv\n"
      ],
      "metadata": {
        "id": "Cv3jd2XlDe8e"
      },
      "execution_count": null,
      "outputs": []
    },
    {
      "cell_type": "code",
      "source": [
        "%cd bin\n"
      ],
      "metadata": {
        "id": "uIajj9LDDxTN"
      },
      "execution_count": null,
      "outputs": []
    },
    {
      "cell_type": "code",
      "source": [
        "!chmod +x package\n"
      ],
      "metadata": {
        "id": "rWsIifmQD3AZ"
      },
      "execution_count": null,
      "outputs": []
    },
    {
      "cell_type": "code",
      "source": [
        "!./package\n"
      ],
      "metadata": {
        "id": "uM2fWwbID6UI"
      },
      "execution_count": null,
      "outputs": []
    },
    {
      "cell_type": "code",
      "source": [
        "!ls /content/gdc-client/bin\n"
      ],
      "metadata": {
        "id": "-G2vitJlBHKK"
      },
      "execution_count": null,
      "outputs": []
    },
    {
      "cell_type": "code",
      "source": [
        "!/content/gdc-client/bin/gdc-client download -m /path/to/new_manifest.csv -d /path/to/destination\n",
        "\n"
      ],
      "metadata": {
        "id": "hlvNgtdTEbkF"
      },
      "execution_count": null,
      "outputs": []
    },
    {
      "cell_type": "code",
      "source": [
        "!ls /content/gdc-client/bin\n"
      ],
      "metadata": {
        "id": "Z2WhlpaAErXT"
      },
      "execution_count": null,
      "outputs": []
    },
    {
      "cell_type": "code",
      "source": [
        "!unzip /content/gdc-client/bin/gdc-client_2.3_Ubuntu_x64.zip -d /content/gdc-client/bin/\n"
      ],
      "metadata": {
        "id": "Azpl7BqJB97G"
      },
      "execution_count": null,
      "outputs": []
    },
    {
      "cell_type": "code",
      "source": [
        "!ls /content/gdc-client/bin/\n"
      ],
      "metadata": {
        "id": "fV_5_tU9CD2R"
      },
      "execution_count": null,
      "outputs": []
    },
    {
      "cell_type": "code",
      "source": [
        "!chmod +x /content/gdc-client/bin/gdc-client\n"
      ],
      "metadata": {
        "id": "Y7YKmTDZCbCM"
      },
      "execution_count": null,
      "outputs": []
    },
    {
      "cell_type": "code",
      "source": [
        "!/content/gdc-client/bin/gdc-client download -m /content/new_manifest.csv -d /content/downloaded_files/\n"
      ],
      "metadata": {
        "id": "tD1B-XubCidY"
      },
      "execution_count": null,
      "outputs": []
    },
    {
      "cell_type": "code",
      "source": [
        "%cd /content/gdc-client/bin/gdc-client/bin/gdc-client/bin\n"
      ],
      "metadata": {
        "id": "PCPASoArExxf"
      },
      "execution_count": null,
      "outputs": []
    },
    {
      "cell_type": "markdown",
      "source": [
        "## Data Formatting\n",
        "To train a BERT-based RNA model, the dataset should be formatted as follows:\n",
        "\n",
        "**Structure of the Dataset**\n",
        "Each row should have:\n",
        "\n",
        "1. RNA Sequence: The RNA sequence (cancerous or non-cancerous).\n",
        "2. Label: A binary label indicating whether the sequence is cancerous (`1`) or non-cancerous (`0`).\n",
        "\n",
        "**Transforming the DataFrame**\n",
        "\n",
        "Assuming we have RNA sequence data files (`file_id`, `file_name`) and labels (`sample_type`), we can parse the RNA sequences from the files and structure the data:"
      ],
      "metadata": {
        "id": "q1K6ZtKGs6Gx"
      }
    },
    {
      "cell_type": "code",
      "source": [
        "import pandas as pd\n",
        "\n",
        "# Paths to the uploaded files\n",
        "gdc_manifest_path = '/content/drive/MyDrive/RNA_sequence_files/gdc_manifest.csv'\n",
        "new_manifest_path = '/content/drive/MyDrive/RNA_sequence_files/new_manifest.csv'\n",
        "\n",
        "# Read the contents of the files\n",
        "try:\n",
        "    gdc_manifest = pd.read_csv(gdc_manifest_path)\n",
        "    new_manifest = pd.read_csv(new_manifest_path)\n",
        "\n",
        "    # Display the first few rows of each manifest\n",
        "    print(\"GDC Manifest (first few rows):\")\n",
        "    print(gdc_manifest.head(), \"\\n\")\n",
        "\n",
        "    print(\"New Manifest (first few rows):\")\n",
        "    print(new_manifest.head())\n",
        "\n",
        "except Exception as e:\n",
        "    print(f\"Error reading files: {e}\")\n"
      ],
      "metadata": {
        "id": "p0xgBt6PEcHm"
      },
      "execution_count": null,
      "outputs": []
    },
    {
      "cell_type": "code",
      "source": [
        "!/content/gdc-client/bin/gdc-client download -m /content/drive/MyDrive/RNA_sequence_files/gdc_manifest.csv -d /content/drive/MyDrive/RNA_sequence_files/downloaded_files\n"
      ],
      "metadata": {
        "id": "WoNotdCyEdUx"
      },
      "execution_count": null,
      "outputs": []
    },
    {
      "cell_type": "code",
      "source": [
        "!ls"
      ],
      "metadata": {
        "id": "-mZfq1w7FwiS"
      },
      "execution_count": null,
      "outputs": []
    },
    {
      "cell_type": "code",
      "source": [
        "!pwd"
      ],
      "metadata": {
        "id": "-VqIwrAgF6fW"
      },
      "execution_count": null,
      "outputs": []
    },
    {
      "cell_type": "code",
      "source": [
        "!mv /content/drive/MyDrive/RNA_sequence_files/gdc_manifest.csv /content/gdc-client/bin/\n"
      ],
      "metadata": {
        "id": "_azTJjiKGHUT"
      },
      "execution_count": null,
      "outputs": []
    },
    {
      "cell_type": "code",
      "source": [
        "!ls"
      ],
      "metadata": {
        "id": "AkCjOBanGab9"
      },
      "execution_count": null,
      "outputs": []
    },
    {
      "cell_type": "code",
      "source": [
        "!mv /content/drive/MyDrive/RNA_sequence_files/new_manifest.csv /content/gdc-client/bin/\n"
      ],
      "metadata": {
        "id": "92UH2NhjGcUB"
      },
      "execution_count": null,
      "outputs": []
    },
    {
      "cell_type": "code",
      "source": [
        "!ls"
      ],
      "metadata": {
        "id": "fZTm2GKpGltf"
      },
      "execution_count": null,
      "outputs": []
    },
    {
      "cell_type": "code",
      "source": [
        "!./gdc-client download -m gdc_manifest.csv -d /content/drive/MyDrive/RNA_sequence_files/downloaded_files\n"
      ],
      "metadata": {
        "id": "jOrLLJ5oGnj0"
      },
      "execution_count": null,
      "outputs": []
    },
    {
      "cell_type": "code",
      "source": [
        "import pandas as pd\n",
        "\n",
        "# Convert gdc_manifest.csv to gdc_manifest.txt\n",
        "gdc_manifest_path = \"/content/gdc-client/bin/gdc_manifest.csv\"\n",
        "gdc_manifest_txt_path = \"/content/gdc-client/bin/gdc_manifest.txt\"\n",
        "gdc_manifest_df = pd.read_csv(gdc_manifest_path, header=None)  # No headers in the CSV\n",
        "gdc_manifest_df.to_csv(gdc_manifest_txt_path, sep='\\t', index=False, header=['id'])\n",
        "\n",
        "# Convert new_manifest.csv to new_manifest.txt\n",
        "new_manifest_path = \"/content/gdc-client/bin/new_manifest.csv\"\n",
        "new_manifest_txt_path = \"/content/gdc-client/bin/new_manifest.txt\"\n",
        "new_manifest_df = pd.read_csv(new_manifest_path, header=None)  # No headers in the CSV\n",
        "new_manifest_df.to_csv(new_manifest_txt_path, sep='\\t', index=False, header=['id', 'filename'])\n",
        "\n",
        "print(\"Manifests converted to .txt format.\")\n"
      ],
      "metadata": {
        "id": "h7e3og4yG3Df"
      },
      "execution_count": null,
      "outputs": []
    },
    {
      "cell_type": "code",
      "source": [
        "!ls"
      ],
      "metadata": {
        "id": "HmRbzOwVHPGF"
      },
      "execution_count": null,
      "outputs": []
    },
    {
      "cell_type": "markdown",
      "source": [
        "This line is wrong because it is looking in the wrong directory, we have moved the files to:\n",
        "`/content/gdc-client/bin` this appears to have been key to this process"
      ],
      "metadata": {
        "id": "grTPV_gbKpGL"
      }
    },
    {
      "cell_type": "code",
      "source": [
        "!./gdc-client download -m gdc_manifest.txt -d /content/drive/MyDrive/RNA_sequence_files/downloaded_files\n"
      ],
      "metadata": {
        "id": "GrwgqlXWHS-q"
      },
      "execution_count": null,
      "outputs": []
    },
    {
      "cell_type": "code",
      "source": [
        "!./gdc-client download -m gdc_manifest.txt\n"
      ],
      "metadata": {
        "id": "b81NqfRjHd09"
      },
      "execution_count": null,
      "outputs": []
    },
    {
      "cell_type": "code",
      "source": [
        "!pwd"
      ],
      "metadata": {
        "id": "4OJwnNX7IanX"
      },
      "execution_count": null,
      "outputs": []
    },
    {
      "cell_type": "code",
      "source": [
        "!ls"
      ],
      "metadata": {
        "id": "gUqwRnL0LbgU"
      },
      "execution_count": null,
      "outputs": []
    },
    {
      "cell_type": "code",
      "source": [
        "!file <filename>\n"
      ],
      "metadata": {
        "id": "mCcxWoA2LeDQ"
      },
      "execution_count": null,
      "outputs": []
    },
    {
      "cell_type": "code",
      "source": [
        "!head -n 5 <filename>  # For text-based files like .tsv\n"
      ],
      "metadata": {
        "id": "B-UEnW3oMdC7"
      },
      "execution_count": null,
      "outputs": []
    },
    {
      "cell_type": "code",
      "source": [
        "!file gdc_manifest.txt\n"
      ],
      "metadata": {
        "id": "xCZ3DEyoMhKj"
      },
      "execution_count": null,
      "outputs": []
    },
    {
      "cell_type": "code",
      "source": [
        "!head -n 5 gdc_manifest.txt\n"
      ],
      "metadata": {
        "id": "qAPE_-7tM57r"
      },
      "execution_count": null,
      "outputs": []
    },
    {
      "cell_type": "code",
      "source": [
        "!ls | grep 1d4c26b3-b9cd-4c63-9bed-84906d01ed21\n"
      ],
      "metadata": {
        "id": "4tu7CgClM_TP"
      },
      "execution_count": null,
      "outputs": []
    },
    {
      "cell_type": "code",
      "source": [
        "import pandas as pd\n",
        "\n",
        "manifest = pd.read_csv('gdc_manifest.txt', sep='\\t')  # Adjust separator if needed\n",
        "print(manifest.head())\n"
      ],
      "metadata": {
        "id": "yFJRjukjNPT6"
      },
      "execution_count": null,
      "outputs": []
    },
    {
      "cell_type": "markdown",
      "source": [
        "#### It looks like the gdc_manifest.txt file has been successfully parsed, and its contents align with the downloaded files in your directory. The file contains a single column labeled id, listing unique identifiers for the files.\n",
        "\n",
        "**Next Steps**\n",
        "* Validate All IDs: Ensure every ID in the manifest has a corresponding file in the directory:\n"
      ],
      "metadata": {
        "id": "xpHOn4c6Nol7"
      }
    },
    {
      "cell_type": "code",
      "source": [
        "import os\n",
        "\n",
        "manifest_ids = set(manifest['id'])\n",
        "downloaded_files = set(os.listdir('.'))  # List all files in the current directory\n",
        "\n",
        "missing_ids = manifest_ids - downloaded_files\n",
        "if missing_ids:\n",
        "    print(f\"Missing files for IDs: {missing_ids}\")\n",
        "else:\n",
        "    print(\"All files from the manifest are present.\")\n"
      ],
      "metadata": {
        "id": "QJt5JQEINZZJ"
      },
      "execution_count": null,
      "outputs": []
    },
    {
      "cell_type": "markdown",
      "source": [
        "#### Map Metadata: If you have additional metadata files (e.g., `new_manifest.csv`) linking these IDs to cancerous/non-cancerous labels or other attributes, merge them with the current manifest for further analysis\n"
      ],
      "metadata": {
        "id": "KsMU3GHoN_gT"
      }
    },
    {
      "cell_type": "code",
      "source": [
        "metadata = pd.read_csv('new_manifest.csv')  # Adjust path and format if needed\n",
        "merged = manifest.merge(metadata, left_on='id', right_on='file_id', how='left')  # Use the appropriate column\n",
        "print(merged.head())\n"
      ],
      "metadata": {
        "id": "zSojq6mBN29P"
      },
      "execution_count": null,
      "outputs": []
    },
    {
      "cell_type": "markdown",
      "source": [
        "Check the Column Names in new_manifest.csv\n",
        "Run the following code to inspect the columns in `new_manifest.csv`\n"
      ],
      "metadata": {
        "id": "6Q26II2TOeP-"
      }
    },
    {
      "cell_type": "code",
      "source": [
        "metadata = pd.read_csv('new_manifest.csv')\n",
        "print(metadata.columns)\n"
      ],
      "metadata": {
        "id": "mA78TVHEOQjF"
      },
      "execution_count": null,
      "outputs": []
    },
    {
      "cell_type": "markdown",
      "source": [
        "Adjust the Merge Based on the Correct Column Names\n",
        "Once you know the correct column name for the IDs in `new_manifest.csv`, update the `merge` statement. For example:\n",
        "\n",
        "If the column for IDs in `new_manifest.csv` is named `id`, you can update the merge:\n"
      ],
      "metadata": {
        "id": "CSGMpIuEOus7"
      }
    },
    {
      "cell_type": "code",
      "source": [
        "merged = manifest.merge(metadata, on='id', how='left')\n"
      ],
      "metadata": {
        "id": "LEYn7MXoOn6z"
      },
      "execution_count": null,
      "outputs": []
    },
    {
      "cell_type": "markdown",
      "source": [
        "Since the CSV files lack headers, we need to explicitly set headers or handle the lack of headers during reading and merging. Here's how to proceed:\n",
        "\n",
        "#### Read the Files Without Headers\n",
        "We can specify `header=None` while reading the files to treat all rows as data\n"
      ],
      "metadata": {
        "id": "F2jTKjmAPncf"
      }
    },
    {
      "cell_type": "code",
      "source": [
        "# Read the manifest file without headers\n",
        "manifest = pd.read_csv('gdc_manifest.txt', sep='\\t', header=None, names=['id'])\n",
        "\n",
        "# Read the metadata file without headers\n",
        "metadata = pd.read_csv('new_manifest.csv', header=None, names=['file_id', 'file_name'])\n",
        "\n",
        "# Inspect the data\n",
        "print(manifest.head())\n",
        "print(metadata.head())\n"
      ],
      "metadata": {
        "id": "vCabvEbqPGIx"
      },
      "execution_count": null,
      "outputs": []
    },
    {
      "cell_type": "code",
      "source": [
        "# Drop the header-like row from the manifest DataFrame\n",
        "manifest = manifest[manifest['id'] != 'id']\n",
        "\n",
        "# Merge on the correct columns\n",
        "merged = manifest.merge(metadata, left_on='id', right_on='file_id', how='left')\n",
        "\n",
        "# Inspect the merged DataFrame\n",
        "print(merged.head())\n"
      ],
      "metadata": {
        "id": "u8ajBtb8P4mI"
      },
      "execution_count": null,
      "outputs": []
    },
    {
      "cell_type": "markdown",
      "source": [
        "The `merged` DataFrame successfully aligns the IDs from the `manifest` with the corresponding files from the `metadata`. Here's what the result indicates:\n",
        "\n",
        "#### Structure of the `merged` DataFrame:\n",
        "* Columns:\n",
        "    * `id`: The IDs from the `manifest`.\n",
        "    * `file_id`: Corresponding IDs from the `metadata`, verifying the match.\n",
        "    * `file_name`: The RNA sequence file names associated with the IDs.\n",
        "### Next Steps:\n",
        "1. Validate Data Completeness:\n",
        "\n",
        "Check if any IDs in the manifest were not matched in the metadata.\n",
        "Use merged to identify rows where file_name is NaN."
      ],
      "metadata": {
        "id": "ur2yYl5qQmIY"
      }
    },
    {
      "cell_type": "code",
      "source": [
        "missing_files = merged[merged['file_name'].isnull()]\n",
        "print(f\"Number of missing files: {missing_files.shape[0]}\")\n",
        "print(missing_files)\n"
      ],
      "metadata": {
        "id": "baDaUJxTQWKG"
      },
      "execution_count": null,
      "outputs": []
    },
    {
      "cell_type": "markdown",
      "source": [
        "2. Filter by Desired Criteria:\n",
        "\n",
        "    * Extract specific subsets of data, e.g., cancerous vs. non-cancerous samples, if such labels exist in metadata.\n",
        "    * If no labels are present, we may need to cross-reference another dataset for annotations.\n",
        "3. Prepare for Sequence Processing:\n",
        "\n",
        "    * Confirm the physical existence of the files listed in file_name.\n",
        "    * Load these files to inspect their contents and validate RNA sequence formats.\n",
        "4. Save the Processed Data:\n",
        "\n",
        "    * Save the merged DataFrame as a CSV file for future reference"
      ],
      "metadata": {
        "id": "hC8msZVbRfCH"
      }
    },
    {
      "cell_type": "code",
      "source": [
        "merged.to_csv('merged_manifest.csv', index=False)\n",
        "print(\"Merged manifest saved to 'merged_manifest.csv'\")\n"
      ],
      "metadata": {
        "id": "o3d28QTBRUGN"
      },
      "execution_count": null,
      "outputs": []
    },
    {
      "cell_type": "code",
      "source": [
        "!ls -la"
      ],
      "metadata": {
        "id": "e1zIDYXRSAVc"
      },
      "execution_count": null,
      "outputs": []
    },
    {
      "cell_type": "markdown",
      "source": [
        "1. Verify Physical Files:\n",
        "\n",
        "    * Ensure all files listed in file_name are present in the directory where the files were downloaded."
      ],
      "metadata": {
        "id": "YQqzIGKDSZ6t"
      }
    },
    {
      "cell_type": "code",
      "source": [
        "import os\n",
        "\n",
        "# Directory where files are downloaded\n",
        "download_dir = '/content/gdc-client/bin'\n",
        "\n",
        "# List of expected files\n",
        "expected_files = set(merged['file_name'])\n",
        "\n",
        "# Files present in the directory\n",
        "downloaded_files = set(os.listdir(download_dir))\n",
        "\n",
        "# Missing files\n",
        "missing_files = expected_files - downloaded_files\n",
        "if missing_files:\n",
        "    print(f\"Missing files: {len(missing_files)}\")\n",
        "    print(missing_files)\n",
        "else:\n",
        "    print(\"All files are present.\")\n"
      ],
      "metadata": {
        "id": "XdTzFEwBSTds"
      },
      "execution_count": null,
      "outputs": []
    },
    {
      "cell_type": "code",
      "source": [
        "import pandas as pd\n",
        "\n",
        "merged_manifest = pd.read_csv('merged_manifest.csv')\n",
        "print(merged_manifest.head())\n"
      ],
      "metadata": {
        "id": "ACW6flaTSnWX"
      },
      "execution_count": null,
      "outputs": []
    },
    {
      "cell_type": "code",
      "source": [
        "import os\n",
        "\n",
        "download_dir = '/content/gdc-client/bin'  # Adjust if needed\n",
        "downloaded_files = [f for f in os.listdir(download_dir) if f.endswith('.tsv')]\n",
        "print(f\"Downloaded files count: {len(downloaded_files)}\")\n"
      ],
      "metadata": {
        "id": "8kkhIWj9TEZ5"
      },
      "execution_count": null,
      "outputs": []
    },
    {
      "cell_type": "code",
      "source": [
        "missing_manifest = merged_manifest[~merged_manifest['file_name'].isin(downloaded_files)]\n",
        "missing_manifest[['id']].to_csv('missing_manifest.txt', index=False, header=False)\n"
      ],
      "metadata": {
        "id": "5ycgGeIOTRZi"
      },
      "execution_count": null,
      "outputs": []
    },
    {
      "cell_type": "code",
      "source": [
        "downloaded_files = set(f.rsplit('.', 1)[0] for f in os.listdir(download_dir))\n"
      ],
      "metadata": {
        "id": "GW1BbYE9TZLR"
      },
      "execution_count": null,
      "outputs": []
    },
    {
      "cell_type": "code",
      "source": [
        "with open('missing_manifest.txt', 'r') as f:\n",
        "    print(f.readlines()[:10])  # Print first 10 lines for verification\n"
      ],
      "metadata": {
        "id": "0ZoJ_pX_UBGC"
      },
      "execution_count": null,
      "outputs": []
    },
    {
      "cell_type": "code",
      "source": [
        "ls -l missing_manifest.txt\n"
      ],
      "metadata": {
        "id": "UmJDhDG-UESo"
      },
      "execution_count": null,
      "outputs": []
    },
    {
      "cell_type": "code",
      "source": [
        "ls -ld /content/gdc-client/bin\n"
      ],
      "metadata": {
        "id": "WKQSsMGYUXiY"
      },
      "execution_count": null,
      "outputs": []
    },
    {
      "cell_type": "code",
      "source": [
        "!./gdc-client download -m missing_manifest.txt -d /content/gdc-client/bin\n"
      ],
      "metadata": {
        "id": "dDLRnA8LUiwq"
      },
      "execution_count": null,
      "outputs": []
    },
    {
      "cell_type": "code",
      "source": [
        "!pwd"
      ],
      "metadata": {
        "id": "p2hbGfelU2pv"
      },
      "execution_count": null,
      "outputs": []
    },
    {
      "cell_type": "code",
      "source": [
        "!head -n 10 missing_manifest.txt\n"
      ],
      "metadata": {
        "id": "rdPLTDo0VEzd"
      },
      "execution_count": null,
      "outputs": []
    },
    {
      "cell_type": "code",
      "source": [
        "!cat -A missing_manifest.txt | head -n 10\n"
      ],
      "metadata": {
        "id": "ACBq4viLVWtU"
      },
      "execution_count": null,
      "outputs": []
    },
    {
      "cell_type": "code",
      "source": [
        "!file missing_manifest.txt\n"
      ],
      "metadata": {
        "id": "FOCppCSOVgGd"
      },
      "execution_count": null,
      "outputs": []
    },
    {
      "cell_type": "code",
      "source": [
        "!sed -i 's/[[:space:]]*$//' missing_manifest.txt\n"
      ],
      "metadata": {
        "id": "gyQOKty6Vo8n"
      },
      "execution_count": null,
      "outputs": []
    },
    {
      "cell_type": "code",
      "source": [
        "!dos2unix missing_manifest.txt\n"
      ],
      "metadata": {
        "id": "0FIaIJFvV_l_"
      },
      "execution_count": null,
      "outputs": []
    },
    {
      "cell_type": "code",
      "source": [
        "!cat -A missing_manifest.txt | head -n 10\n"
      ],
      "metadata": {
        "id": "f1GlQCuxWD-6"
      },
      "execution_count": null,
      "outputs": []
    },
    {
      "cell_type": "code",
      "source": [
        "!sed -i 's/\\r$//' missing_manifest.txt\n"
      ],
      "metadata": {
        "id": "6HIK6ypgWKBN"
      },
      "execution_count": null,
      "outputs": []
    },
    {
      "cell_type": "code",
      "source": [
        "!cat -A missing_manifest.txt | head -n 10\n"
      ],
      "metadata": {
        "id": "L7hfBTpGWa4C"
      },
      "execution_count": null,
      "outputs": []
    },
    {
      "cell_type": "code",
      "source": [
        "with open('missing_manifest.txt', 'r') as file:\n",
        "    lines = file.readlines()\n",
        "\n",
        "# Remove any carriage return characters\n",
        "lines = [line.strip() + '\\n' for line in lines]\n",
        "\n",
        "with open('missing_manifest.txt', 'w') as file:\n",
        "    file.writelines(lines)\n"
      ],
      "metadata": {
        "id": "L93NiM_FWdb_"
      },
      "execution_count": null,
      "outputs": []
    },
    {
      "cell_type": "code",
      "source": [
        "!cat -A missing_manifest.txt | head -n 10\n"
      ],
      "metadata": {
        "id": "Rr78jL0fWz0z"
      },
      "execution_count": null,
      "outputs": []
    },
    {
      "cell_type": "code",
      "source": [
        "!xxd missing_manifest.txt | head -n 10\n"
      ],
      "metadata": {
        "id": "9mwRH9TIW3H8"
      },
      "execution_count": null,
      "outputs": []
    },
    {
      "cell_type": "code",
      "source": [
        "!head -n 10 missing_manifest.txt\n"
      ],
      "metadata": {
        "id": "UWgO97O3XcE5"
      },
      "execution_count": null,
      "outputs": []
    },
    {
      "cell_type": "code",
      "source": [
        "!./gdc-client download -m missing_manifest.txt -d /content/gdc-client/bin\n"
      ],
      "metadata": {
        "id": "bIwo773DXlz9"
      },
      "execution_count": null,
      "outputs": []
    },
    {
      "cell_type": "markdown",
      "source": [
        "The `ERROR: Invalid manifest` issue persists, suggesting there is still some problem with the missing_manifest.txt file format or structure. Let's take another systematic approach to resolve this:\n",
        "\n",
        "#### Troubleshooting Steps:\n",
        "1. Manifest File Format\n",
        "\n",
        "    * Ensure the file starts without a header. The `missing_manifest.txt` file should only contain the file IDs (no column names or extra lines).\n",
        "    * Double-check that each line contains a valid UUID (no extra spaces, symbols, or characters).\n",
        "2. File Encoding\n",
        "\n",
        "    * Verify the encoding of the file to ensure it is in plain `ASCII` or `UTF-8` without a `BOM` (Byte Order Mark). This can be done using the file command:\n",
        "\n"
      ],
      "metadata": {
        "id": "8SZXd_8lYSc4"
      }
    },
    {
      "cell_type": "code",
      "source": [
        "!file missing_manifest.txt\n"
      ],
      "metadata": {
        "id": "4Yz1rFycX_HM"
      },
      "execution_count": null,
      "outputs": []
    },
    {
      "cell_type": "code",
      "source": [
        "!cat -A missing_manifest.txt | head -n 10\n"
      ],
      "metadata": {
        "id": "hAGEBEs6Y-7F"
      },
      "execution_count": null,
      "outputs": []
    },
    {
      "cell_type": "code",
      "source": [
        "!diff missing_manifest.txt sample_manifest.txt\n"
      ],
      "metadata": {
        "id": "ZGBeArSJZHUl"
      },
      "execution_count": null,
      "outputs": []
    },
    {
      "cell_type": "code",
      "source": [
        "!ls -la"
      ],
      "metadata": {
        "id": "nI30CvsnZS3Z"
      },
      "execution_count": null,
      "outputs": []
    },
    {
      "cell_type": "code",
      "source": [
        "!tr -d '\\r' < missing_manifest.txt > sanitized_manifest.txt\n"
      ],
      "metadata": {
        "id": "pPcQbnhyZgAD"
      },
      "execution_count": null,
      "outputs": []
    },
    {
      "cell_type": "code",
      "source": [
        "!mv sanitized_manifest.txt missing_manifest.txt\n"
      ],
      "metadata": {
        "id": "XnUaDlWKZ6XW"
      },
      "execution_count": null,
      "outputs": []
    },
    {
      "cell_type": "code",
      "source": [
        "!file missing_manifest.txt\n"
      ],
      "metadata": {
        "id": "Y4xfJzmYaBAA"
      },
      "execution_count": null,
      "outputs": []
    },
    {
      "cell_type": "code",
      "source": [
        "import re\n",
        "\n",
        "with open(\"missing_manifest.txt\", \"r\") as f:\n",
        "    lines = f.readlines()\n",
        "\n",
        "uuid_pattern = re.compile(r'^[a-f0-9\\-]{36}$')\n",
        "valid = all(uuid_pattern.match(line.strip()) for line in lines)\n",
        "\n",
        "print(\"All UUIDs valid:\", valid)\n"
      ],
      "metadata": {
        "id": "6jtMLWmsaH4d"
      },
      "execution_count": null,
      "outputs": []
    },
    {
      "cell_type": "code",
      "source": [
        "!chmod +x ./gdc-client\n"
      ],
      "metadata": {
        "id": "y4e8xT56aV6m"
      },
      "execution_count": null,
      "outputs": []
    },
    {
      "cell_type": "code",
      "source": [
        "!./gdc-client download -m missing_manifest.txt -d /content/gdc-client/bin\n"
      ],
      "metadata": {
        "id": "oCo_oMAUarZd"
      },
      "execution_count": null,
      "outputs": []
    },
    {
      "cell_type": "code",
      "source": [
        "!zip -r session_backup.zip /content/\n"
      ],
      "metadata": {
        "id": "bqj_65W3a0bE"
      },
      "execution_count": null,
      "outputs": []
    },
    {
      "cell_type": "code",
      "source": [],
      "metadata": {
        "id": "MSLvnZD4bl8f"
      },
      "execution_count": null,
      "outputs": []
    }
  ]
}